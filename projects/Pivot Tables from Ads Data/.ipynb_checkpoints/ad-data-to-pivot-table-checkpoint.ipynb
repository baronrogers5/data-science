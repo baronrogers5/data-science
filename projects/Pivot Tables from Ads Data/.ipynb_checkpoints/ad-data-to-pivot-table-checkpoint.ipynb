{
 "cells": [
  {
   "cell_type": "code",
   "execution_count": 1,
   "metadata": {},
   "outputs": [],
   "source": [
    "import pandas as pd\n",
    "import numpy as np\n",
    "from collections import defaultdict"
   ]
  },
  {
   "cell_type": "markdown",
   "metadata": {},
   "source": [
    "## Reading data area"
   ]
  },
  {
   "cell_type": "code",
   "execution_count": 74,
   "metadata": {},
   "outputs": [],
   "source": [
    "# Read data for pivot table maipulation\n",
    "replace_uae_en = pd.read_csv('UAE-EN-[flydubai]-Auction insight.csv', encoding='utf-16le', skiprows=2, sep='\\t')\n",
    "replace_ksa_en = pd.read_csv('KSA-EN-[flydubai]-Auction insight.csv', encoding='utf-16le', skiprows=2, sep='\\t')\n",
    "replace_uae_ar = pd.read_csv('UAE-AR-[flydubai].csv', encoding='utf-16le', skiprows=2, sep='\\t')\n",
    "replace_ksa_ar = pd.read_csv('KSA-AR-[flydubai].csv', encoding='utf-16le', skiprows=2, sep='\\t')"
   ]
  },
  {
   "cell_type": "code",
   "execution_count": 75,
   "metadata": {},
   "outputs": [],
   "source": [
    "# Read data for dropping cols\n",
    "drop_uae_en = pd.read_csv('UAE-EN-[fly dubai-Auction insight.csv', encoding='utf-16le', skiprows=2, sep='\\t')\n",
    "drop_uae_en_terms = pd.read_csv('UAE-EN-[flydubai] + terms -Auction insights.csv', encoding='utf-16le', skiprows=2, sep='\\t')\n",
    "drop_ksa_en = pd.read_csv('KSA-EN-[fly dubai]-Auction insight.csv', encoding='utf-16le', skiprows=2, sep='\\t')\n",
    "drop_ksa_en_terms = pd.read_csv('KSA-EN-[flydubai]+terms-Auction insight.csv', encoding='utf-16le', skiprows=2, sep='\\t')"
   ]
  },
  {
   "cell_type": "code",
   "execution_count": 76,
   "metadata": {},
   "outputs": [],
   "source": [
    "names_dict = defaultdict()"
   ]
  },
  {
   "cell_type": "markdown",
   "metadata": {},
   "source": [
    "## Give Data frames a name attribute"
   ]
  },
  {
   "cell_type": "code",
   "execution_count": 77,
   "metadata": {},
   "outputs": [],
   "source": [
    "replace_uae_en.name = 'replace_uae_en'\n",
    "replace_ksa_ar.name = 'replace_ksa_ar'\n",
    "replace_ksa_en.name = 'replace_ksa_en'\n",
    "replace_uae_ar.name = 'replace_uae_ar'"
   ]
  },
  {
   "cell_type": "markdown",
   "metadata": {},
   "source": [
    "## Make methods to accept any args, make floats and make pivots"
   ]
  },
  {
   "cell_type": "code",
   "execution_count": 78,
   "metadata": {},
   "outputs": [],
   "source": [
    "def replace_dunder(*args):\n",
    "    for df in args:\n",
    "        df['Position above rate'].replace(to_replace=' --', value='0.0', inplace=True)\n",
    "        df['Outranking share'].replace(to_replace=' --', value='0.0', inplace=True)\n",
    "\n",
    "def strip_and_float(*args):\n",
    "    for df in args:\n",
    "        df['Impression share'] = [float(val.strip('% | <')) for val in df['Impression share']]\n",
    "        df['Position above rate'] = [float(val.strip('% | < |')) for val in df['Position above rate']]\n",
    "        df['Outranking share'] = [float(val.strip('% | < |')) for val in df['Outranking share']]\n",
    "\n",
    "def make_pivots(*args):\n",
    "    for df in args:\n",
    "        names_dict['pivot'+df.name] = pd.pivot_table(data=df, index=['Display URL domain', 'Device'],\n",
    "               values=['Impression share', 'Position above rate', 'Outranking share'])\n",
    "        \n",
    "        names_dict['pivot'+df.name] = names_dict['pivot'+df.name].astype(str) + '%'\n",
    "        \n",
    "def clean_dfs(*args):\n",
    "    replace_dunder(*args)\n",
    "    strip_and_float(*args)\n",
    "    make_pivots(*args)"
   ]
  },
  {
   "cell_type": "markdown",
   "metadata": {},
   "source": [
    "## Drop some cols from datasets"
   ]
  },
  {
   "cell_type": "code",
   "execution_count": 79,
   "metadata": {},
   "outputs": [],
   "source": [
    "def drop_cols(*args):\n",
    "    for df in args:\n",
    "        df.drop(labels=['Avg. position', 'Overlap rate', 'Top of page rate', 'Abs. Top of page rate'], axis=1, inplace=True)"
   ]
  },
  {
   "cell_type": "code",
   "execution_count": 80,
   "metadata": {},
   "outputs": [],
   "source": [
    "alldfs = [var for var in dir() if isinstance(eval(var), pd.core.frame.DataFrame)]\n",
    "for df in [replace_ksa_ar, replace_ksa_en, replace_uae_ar, replace_uae_en]:\n",
    "    clean_dfs(df)"
   ]
  },
  {
   "cell_type": "code",
   "execution_count": 82,
   "metadata": {},
   "outputs": [],
   "source": [
    "drop_cols(drop_ksa_en, drop_ksa_en_terms, drop_uae_en, drop_uae_en_terms)"
   ]
  },
  {
   "cell_type": "markdown",
   "metadata": {},
   "source": [
    "## Write to excel sheets with multiple pd.DataFrames on same sheet"
   ]
  },
  {
   "cell_type": "code",
   "execution_count": 84,
   "metadata": {},
   "outputs": [],
   "source": [
    "writer = pd.ExcelWriter('auction_insights.xlsx')"
   ]
  },
  {
   "cell_type": "code",
   "execution_count": 85,
   "metadata": {},
   "outputs": [],
   "source": [
    "names_dict['pivotreplace_ksa_ar'].to_excel(writer, sheet_name='KSA-AR', startrow=0, startcol=0)\n",
    "names_dict['pivotreplace_ksa_en'].to_excel(writer, sheet_name='KSA-EN', startrow=0, startcol=0)\n",
    "names_dict['pivotreplace_uae_ar'].to_excel(writer, sheet_name='UAE-AR', startrow=0, startcol=0)\n",
    "names_dict['pivotreplace_uae_en'].to_excel(writer, sheet_name='UAE-EN', startrow=0, startcol=0)\n",
    "\n",
    "drop_ksa_en.to_excel(writer, sheet_name='KSA-EN', startrow=20, startcol=0, index=False)\n",
    "drop_uae_en.to_excel(writer, sheet_name='UAE-EN', startrow=20, startcol=0, index=False)\n",
    "\n",
    "drop_ksa_en_terms.to_excel(writer, sheet_name='KSA-EN', startrow=30, startcol=0, index=False)\n",
    "drop_uae_en_terms.to_excel(writer, sheet_name='UAE-EN', startrow=30, startcol=0, index=False)"
   ]
  },
  {
   "cell_type": "code",
   "execution_count": 86,
   "metadata": {},
   "outputs": [],
   "source": [
    "writer.save()"
   ]
  }
 ],
 "metadata": {
  "kernelspec": {
   "display_name": "Python 3",
   "language": "python",
   "name": "python3"
  },
  "language_info": {
   "codemirror_mode": {
    "name": "ipython",
    "version": 3
   },
   "file_extension": ".py",
   "mimetype": "text/x-python",
   "name": "python",
   "nbconvert_exporter": "python",
   "pygments_lexer": "ipython3",
   "version": "3.6.7"
  }
 },
 "nbformat": 4,
 "nbformat_minor": 2
}
